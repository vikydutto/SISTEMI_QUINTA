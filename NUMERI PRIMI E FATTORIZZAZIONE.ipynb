{
 "cells": [
  {
   "cell_type": "markdown",
   "id": "5443afe0",
   "metadata": {},
   "source": [
    "# NUMERI PRIMI E FATTORIZZAZIONE"
   ]
  },
  {
   "cell_type": "markdown",
   "id": "d1020574",
   "metadata": {},
   "source": [
    "## FUNZIONE CHE DETERMINA SE UN NUMERO E' PRIMO O MENO:\n"
   ]
  },
  {
   "cell_type": "code",
   "execution_count": 1,
   "id": "f9ad5385",
   "metadata": {},
   "outputs": [],
   "source": [
    "def isPrimo(numero):\n",
    "            controllo = False\n",
    "            cont = 2\n",
    "            while cont < int(numero**0.5)+1 and controllo == False:\n",
    "                n = numero % cont\n",
    "                if n == 0:\n",
    "                    controllo = True ##se è true esce \n",
    "                    print(\"{numero} non è un numero primo\")\n",
    "                \n",
    "                cont += 1\n",
    "            \n",
    "            if controllo == False:\n",
    "                print(\"{numero} è un numero primo\")   "
   ]
  },
  {
   "cell_type": "markdown",
   "id": "0eef0d9b",
   "metadata": {},
   "source": [
    "Passandogli un numero come parametro ci dirà se è primo o meno"
   ]
  },
  {
   "cell_type": "markdown",
   "id": "f80d6d01",
   "metadata": {},
   "source": [
    "Usiamo questa funzione per trovare i due numeri primi che moltiplicati danno come risultato il numero inserito dalla'utente"
   ]
  },
  {
   "cell_type": "code",
   "execution_count": 2,
   "id": "7d083f8e",
   "metadata": {},
   "outputs": [],
   "source": [
    "def fattoriPrimi(numero):\n",
    "    fattori = []\n",
    "\n",
    "    for x in range (2, 100000000):\n",
    "        if numero % x == 0:\n",
    "            fattori.append(x)\n",
    "    \n",
    "    print(f\"il primo fattore è {fattori[0]} e il secondo è {fattori[1]}\")"
   ]
  },
  {
   "cell_type": "markdown",
   "id": "b29f95d7",
   "metadata": {},
   "source": [
    "Per aumentare l'efficienza del nostro programma, inseriamo ora tutti i numeri primi da 0 a 100'000'000 in un file su cui poi cicleremo, risparmiando tempo\n"
   ]
  },
  {
   "cell_type": "code",
   "execution_count": 4,
   "id": "9b077b2d",
   "metadata": {},
   "outputs": [],
   "source": [
    "def main():\n",
    "    f = open(\"Num_primi.txt\", \"w\")\n",
    "\n",
    "    for x in range (2, 100000):\n",
    "        if isPrimo(x) == False:\n",
    "            f.write(f\"{x}\\n\")\n",
    "    f.close()\n",
    "\n",
    "\n",
    "def isPrimo(numero):\n",
    "            controllo = False\n",
    "            cont = 2\n",
    "            while cont < int(numero**0.5)+1 and controllo == False:\n",
    "                n = numero % cont\n",
    "                if n == 0:\n",
    "                    controllo = True ##se è true esce                \n",
    "                cont += 1\n",
    "            return controllo\n"
   ]
  },
  {
   "cell_type": "markdown",
   "id": "25190926",
   "metadata": {},
   "source": [
    "A questo punto modifichiamo il codice iniziale ciclando unicamente sui numeri primi e non su tutti."
   ]
  },
  {
   "cell_type": "code",
   "execution_count": 7,
   "id": "e6f45c7e",
   "metadata": {},
   "outputs": [],
   "source": [
    "def main():\n",
    "    n = 991847\n",
    "    f = open(\"Num_primi.txt\", \"r\")\n",
    "    righe = f.readlines()\n",
    "    numeri = []\n",
    "    for riga in righe:\n",
    "        numeri.append(int(riga))\n",
    "    \n",
    "    fattoriPrimi(n, numeri)\n",
    "    \n",
    "\n",
    "def fattoriPrimi(numero, lista):\n",
    "    fattori = []\n",
    "\n",
    "    for x in lista:\n",
    "        if numero % x == 0:\n",
    "            fattori.append(x)\n",
    "    \n",
    "    print(f\"il primo fattore è {fattori[0]} e il secondo è {fattori[1]}\")"
   ]
  }
 ],
 "metadata": {
  "kernelspec": {
   "display_name": "Python 3 (ipykernel)",
   "language": "python",
   "name": "python3"
  },
  "language_info": {
   "codemirror_mode": {
    "name": "ipython",
    "version": 3
   },
   "file_extension": ".py",
   "mimetype": "text/x-python",
   "name": "python",
   "nbconvert_exporter": "python",
   "pygments_lexer": "ipython3",
   "version": "3.9.7"
  }
 },
 "nbformat": 4,
 "nbformat_minor": 5
}
